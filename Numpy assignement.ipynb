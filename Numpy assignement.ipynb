{
 "cells": [
  {
   "cell_type": "markdown",
   "metadata": {
    "toc": true
   },
   "source": [
    "<h1>Table of Contents<span class=\"tocSkip\"></span></h1>\n",
    "<div class=\"toc\"><ul class=\"toc-item\"></ul></div>"
   ]
  },
  {
   "cell_type": "markdown",
   "metadata": {},
   "source": [
    "Question 1 Output are powers of Input matrix "
   ]
  },
  {
   "cell_type": "code",
   "execution_count": 36,
   "metadata": {
    "ExecuteTime": {
     "end_time": "2020-08-05T16:45:03.521836Z",
     "start_time": "2020-08-05T16:45:03.507031Z"
    }
   },
   "outputs": [
    {
     "data": {
      "text/plain": [
       "array([[  0,   1,   4,   9,  16],\n",
       "       [ 25,  36,  49,  64,  81],\n",
       "       [100, 121, 144, 169, 196],\n",
       "       [225, 256, 289, 324, 361],\n",
       "       [400, 441, 484, 529, 576]], dtype=int32)"
      ]
     },
     "execution_count": 36,
     "metadata": {},
     "output_type": "execute_result"
    }
   ],
   "source": [
    "import numpy as np\n",
    "mat = np.arange(25).reshape(5,5)\n",
    "mat1 = mat**2\n",
    "mat1"
   ]
  },
  {
   "cell_type": "code",
   "execution_count": 37,
   "metadata": {
    "ExecuteTime": {
     "end_time": "2020-08-05T16:45:28.628101Z",
     "start_time": "2020-08-05T16:45:28.609104Z"
    }
   },
   "outputs": [
    {
     "name": "stdout",
     "output_type": "stream",
     "text": [
      "[  0   1  16  81 256]\n",
      "[125 216 343 512 729]\n",
      "[100 121 144 169 196]\n",
      "[15 16 17 18 19]\n",
      "[1 1 1 1 1]\n"
     ]
    }
   ],
   "source": [
    "N=5\n",
    "for i in range(5):\n",
    "    print(mat[i]**(N-i-1))"
   ]
  },
  {
   "cell_type": "code",
   "execution_count": 51,
   "metadata": {
    "ExecuteTime": {
     "end_time": "2020-08-05T17:02:14.616494Z",
     "start_time": "2020-08-05T17:02:14.570057Z"
    }
   },
   "outputs": [
    {
     "name": "stdout",
     "output_type": "stream",
     "text": [
      "l     1 2 3 4 5 6 7 8 9 10\n",
      "==== ================================\n",
      "Input  10 20 30 40 50 60 70 80 90 100\n",
      "y 1 25 = 10 + 20 + 30 + 40 / 4\n",
      "y 2 35 = 20 + 30 + 40 + 50 / 4\n",
      "y 3 45 = 30 + 40 + 50 + 60 / 4\n",
      "y 4 55 = 40 + 50 + 60 + 70 / 4\n",
      "y 5 65 = 50 + 60 + 70 + 80 / 4\n",
      "y 6 75 = 60 + 70 + 80 + 90 / 4\n",
      "y 7 85 = 70 + 80 + 90 + 100 / 4\n"
     ]
    }
   ],
   "source": [
    "l=np.arange(1,11)\n",
    "t=l*10\n",
    "n=len(l)\n",
    "k=4\n",
    "j=n-k+1\n",
    "print(\"l    \", *l, sep = \" \")\n",
    "print (\"====\", (\"==\"*(16)), sep=\" \")\n",
    "print(\"Input \", *t)\n",
    "for i in range(j):\n",
    "  m=int(round(((t[i]+t[i+1]+t[i+2]+t[i+3])/k),0))\n",
    "  print(\"y\",i+1, m,\"=\",t[i],\"+\",t[i+1],\"+\",t[i+2],\"+\",t[i+3],\"/\",k)"
   ]
  },
  {
   "cell_type": "code",
   "execution_count": null,
   "metadata": {},
   "outputs": [],
   "source": []
  }
 ],
 "metadata": {
  "kernelspec": {
   "display_name": "Python 3",
   "language": "python",
   "name": "python3"
  },
  "language_info": {
   "codemirror_mode": {
    "name": "ipython",
    "version": 3
   },
   "file_extension": ".py",
   "mimetype": "text/x-python",
   "name": "python",
   "nbconvert_exporter": "python",
   "pygments_lexer": "ipython3",
   "version": "3.7.6"
  },
  "toc": {
   "base_numbering": 1,
   "nav_menu": {},
   "number_sections": true,
   "sideBar": true,
   "skip_h1_title": false,
   "title_cell": "Table of Contents",
   "title_sidebar": "Contents",
   "toc_cell": true,
   "toc_position": {},
   "toc_section_display": true,
   "toc_window_display": true
  },
  "varInspector": {
   "cols": {
    "lenName": 16,
    "lenType": 16,
    "lenVar": 40
   },
   "kernels_config": {
    "python": {
     "delete_cmd_postfix": "",
     "delete_cmd_prefix": "del ",
     "library": "var_list.py",
     "varRefreshCmd": "print(var_dic_list())"
    },
    "r": {
     "delete_cmd_postfix": ") ",
     "delete_cmd_prefix": "rm(",
     "library": "var_list.r",
     "varRefreshCmd": "cat(var_dic_list()) "
    }
   },
   "types_to_exclude": [
    "module",
    "function",
    "builtin_function_or_method",
    "instance",
    "_Feature"
   ],
   "window_display": false
  }
 },
 "nbformat": 4,
 "nbformat_minor": 4
}
